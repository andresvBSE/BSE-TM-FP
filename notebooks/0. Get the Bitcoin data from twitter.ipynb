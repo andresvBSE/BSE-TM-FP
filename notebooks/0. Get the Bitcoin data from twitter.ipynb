{
 "cells": [
  {
   "cell_type": "code",
   "execution_count": 3,
   "id": "ba0d7e29",
   "metadata": {},
   "outputs": [],
   "source": [
    "import pandas as pd\n",
    "import numpy as np\n",
    "\n",
    "import seaborn as sns\n",
    "\n",
    "from datetime import datetime\n",
    "\n"
   ]
  },
  {
   "cell_type": "markdown",
   "id": "41d3c43d",
   "metadata": {},
   "source": [
    "## Number of tweets in english (no retweets) since 2021"
   ]
  },
  {
   "cell_type": "code",
   "execution_count": 18,
   "id": "958295a3",
   "metadata": {},
   "outputs": [
    {
     "name": "stdout",
     "output_type": "stream",
     "text": [
      "100%|████████| Processed 10 years/10 years [05:05<00:00, 58880503 tweets total ]\n"
     ]
    }
   ],
   "source": [
    "# Counting tweets about \n",
    "!twarc2 counts --archive --csv --granularity day \"(#BTC OR #BITCOIN OR #btc OR #bitcoin $btc $BTC) lang:en -is:retweet\" --start-time \"2012-01-01\" data/BTC_Counts.csv\n",
    "\n"
   ]
  },
  {
   "cell_type": "code",
   "execution_count": 4,
   "id": "b1c23e45",
   "metadata": {},
   "outputs": [
    {
     "data": {
      "text/html": [
       "<div>\n",
       "<style scoped>\n",
       "    .dataframe tbody tr th:only-of-type {\n",
       "        vertical-align: middle;\n",
       "    }\n",
       "\n",
       "    .dataframe tbody tr th {\n",
       "        vertical-align: top;\n",
       "    }\n",
       "\n",
       "    .dataframe thead th {\n",
       "        text-align: right;\n",
       "    }\n",
       "</style>\n",
       "<table border=\"1\" class=\"dataframe\">\n",
       "  <thead>\n",
       "    <tr style=\"text-align: right;\">\n",
       "      <th></th>\n",
       "      <th>start</th>\n",
       "      <th>end</th>\n",
       "      <th>day_count</th>\n",
       "    </tr>\n",
       "  </thead>\n",
       "  <tbody>\n",
       "    <tr>\n",
       "      <th>0</th>\n",
       "      <td>2022-02-16T00:00:00.000Z</td>\n",
       "      <td>2022-02-17T00:00:00.000Z</td>\n",
       "      <td>98766</td>\n",
       "    </tr>\n",
       "    <tr>\n",
       "      <th>1</th>\n",
       "      <td>2022-02-17T00:00:00.000Z</td>\n",
       "      <td>2022-02-18T00:00:00.000Z</td>\n",
       "      <td>96727</td>\n",
       "    </tr>\n",
       "    <tr>\n",
       "      <th>2</th>\n",
       "      <td>2022-02-18T00:00:00.000Z</td>\n",
       "      <td>2022-02-19T00:00:00.000Z</td>\n",
       "      <td>88957</td>\n",
       "    </tr>\n",
       "    <tr>\n",
       "      <th>3</th>\n",
       "      <td>2022-02-19T00:00:00.000Z</td>\n",
       "      <td>2022-02-20T00:00:00.000Z</td>\n",
       "      <td>79656</td>\n",
       "    </tr>\n",
       "    <tr>\n",
       "      <th>4</th>\n",
       "      <td>2022-02-20T00:00:00.000Z</td>\n",
       "      <td>2022-02-21T00:00:00.000Z</td>\n",
       "      <td>83036</td>\n",
       "    </tr>\n",
       "  </tbody>\n",
       "</table>\n",
       "</div>"
      ],
      "text/plain": [
       "                      start                       end  day_count\n",
       "0  2022-02-16T00:00:00.000Z  2022-02-17T00:00:00.000Z      98766\n",
       "1  2022-02-17T00:00:00.000Z  2022-02-18T00:00:00.000Z      96727\n",
       "2  2022-02-18T00:00:00.000Z  2022-02-19T00:00:00.000Z      88957\n",
       "3  2022-02-19T00:00:00.000Z  2022-02-20T00:00:00.000Z      79656\n",
       "4  2022-02-20T00:00:00.000Z  2022-02-21T00:00:00.000Z      83036"
      ]
     },
     "execution_count": 4,
     "metadata": {},
     "output_type": "execute_result"
    }
   ],
   "source": [
    "# Load the csv with the number of tweets per day\n",
    "btc_c = pd.read_csv(\"data/BTC_Counts.csv\")\n",
    "btc_c.head()"
   ]
  },
  {
   "cell_type": "code",
   "execution_count": 5,
   "id": "31c3bdd7",
   "metadata": {},
   "outputs": [],
   "source": [
    "# Create columns of month and year\n",
    "btc_c['start'] = pd.to_datetime(btc_c['start'])\n",
    "btc_c['month'] = btc_c['start'].dt.month\n",
    "btc_c['year'] = btc_c['start'].dt.year"
   ]
  },
  {
   "cell_type": "code",
   "execution_count": 6,
   "id": "b632c853",
   "metadata": {},
   "outputs": [
    {
     "data": {
      "text/html": [
       "<div>\n",
       "<style scoped>\n",
       "    .dataframe tbody tr th:only-of-type {\n",
       "        vertical-align: middle;\n",
       "    }\n",
       "\n",
       "    .dataframe tbody tr th {\n",
       "        vertical-align: top;\n",
       "    }\n",
       "\n",
       "    .dataframe thead th {\n",
       "        text-align: right;\n",
       "    }\n",
       "</style>\n",
       "<table border=\"1\" class=\"dataframe\">\n",
       "  <thead>\n",
       "    <tr style=\"text-align: right;\">\n",
       "      <th></th>\n",
       "      <th>year</th>\n",
       "      <th>month</th>\n",
       "      <th>day_count</th>\n",
       "    </tr>\n",
       "  </thead>\n",
       "  <tbody>\n",
       "    <tr>\n",
       "      <th>0</th>\n",
       "      <td>2012</td>\n",
       "      <td>1</td>\n",
       "      <td>6930</td>\n",
       "    </tr>\n",
       "    <tr>\n",
       "      <th>1</th>\n",
       "      <td>2012</td>\n",
       "      <td>2</td>\n",
       "      <td>6900</td>\n",
       "    </tr>\n",
       "    <tr>\n",
       "      <th>2</th>\n",
       "      <td>2012</td>\n",
       "      <td>3</td>\n",
       "      <td>11238</td>\n",
       "    </tr>\n",
       "    <tr>\n",
       "      <th>3</th>\n",
       "      <td>2012</td>\n",
       "      <td>4</td>\n",
       "      <td>8814</td>\n",
       "    </tr>\n",
       "    <tr>\n",
       "      <th>4</th>\n",
       "      <td>2012</td>\n",
       "      <td>5</td>\n",
       "      <td>7318</td>\n",
       "    </tr>\n",
       "    <tr>\n",
       "      <th>...</th>\n",
       "      <td>...</td>\n",
       "      <td>...</td>\n",
       "      <td>...</td>\n",
       "    </tr>\n",
       "    <tr>\n",
       "      <th>118</th>\n",
       "      <td>2021</td>\n",
       "      <td>11</td>\n",
       "      <td>2241599</td>\n",
       "    </tr>\n",
       "    <tr>\n",
       "      <th>119</th>\n",
       "      <td>2021</td>\n",
       "      <td>12</td>\n",
       "      <td>2152553</td>\n",
       "    </tr>\n",
       "    <tr>\n",
       "      <th>120</th>\n",
       "      <td>2022</td>\n",
       "      <td>1</td>\n",
       "      <td>2415882</td>\n",
       "    </tr>\n",
       "    <tr>\n",
       "      <th>121</th>\n",
       "      <td>2022</td>\n",
       "      <td>2</td>\n",
       "      <td>2638554</td>\n",
       "    </tr>\n",
       "    <tr>\n",
       "      <th>122</th>\n",
       "      <td>2022</td>\n",
       "      <td>3</td>\n",
       "      <td>1787479</td>\n",
       "    </tr>\n",
       "  </tbody>\n",
       "</table>\n",
       "<p>123 rows × 3 columns</p>\n",
       "</div>"
      ],
      "text/plain": [
       "     year  month  day_count\n",
       "0    2012      1       6930\n",
       "1    2012      2       6900\n",
       "2    2012      3      11238\n",
       "3    2012      4       8814\n",
       "4    2012      5       7318\n",
       "..    ...    ...        ...\n",
       "118  2021     11    2241599\n",
       "119  2021     12    2152553\n",
       "120  2022      1    2415882\n",
       "121  2022      2    2638554\n",
       "122  2022      3    1787479\n",
       "\n",
       "[123 rows x 3 columns]"
      ]
     },
     "execution_count": 6,
     "metadata": {},
     "output_type": "execute_result"
    }
   ],
   "source": [
    "# Grouped by month data set\n",
    "btc_m = btc_c.groupby(['year', 'month']).sum()['day_count'].reset_index()\n",
    "btc_m.sort_values(by=['year', 'month'])"
   ]
  },
  {
   "cell_type": "code",
   "execution_count": 13,
   "id": "13ac0c9d",
   "metadata": {},
   "outputs": [
    {
     "data": {
      "text/plain": [
       "<seaborn.axisgrid.FacetGrid at 0x7fdea55aa4f0>"
      ]
     },
     "execution_count": 13,
     "metadata": {},
     "output_type": "execute_result"
    },
    {
     "data": {
      "image/png": "[encoded data removed]",
      "text/plain": [
       "<Figure size 864x648 with 11 Axes>"
      ]
     },
     "metadata": {
      "needs_background": "light"
     },
     "output_type": "display_data"
    }
   ],
   "source": [
    "# Plot of the number of tweet per year, month\n",
    "g = sns.FacetGrid(btc_m, col=\"year\", col_wrap=4)\n",
    "g.map(sns.lineplot, \"month\", \"day_count\")"
   ]
  },
  {
   "cell_type": "code",
   "execution_count": 23,
   "id": "9ab72db9",
   "metadata": {},
   "outputs": [
    {
     "name": "stdout",
     "output_type": "stream",
     "text": [
      "{2012: 96280, 2013: 749684, 2014: 2609197, 2015: 3851363, 2016: 3148513, 2017: 4289668, 2018: 6595957, 2019: 3977289, 2020: 5967899, 2021: 20752738, 2022: 6841915}\n"
     ]
    },
    {
     "data": {
      "image/png": "[encoded data removed]",
      "text/plain": [
       "<Figure size 432x288 with 1 Axes>"
      ]
     },
     "metadata": {
      "needs_background": "light"
     },
     "output_type": "display_data"
    }
   ],
   "source": [
    "# Total tweets per year\n",
    "peryear = dict(btc_m.groupby(['year']).sum()['day_count'])\n",
    "sns.lineplot(x = peryear.keys(), y = peryear.values())\n",
    "print(peryear)"
   ]
  },
  {
   "cell_type": "code",
   "execution_count": 8,
   "id": "c790d608",
   "metadata": {},
   "outputs": [
    {
     "data": {
      "text/html": [
       "<div>\n",
       "<style scoped>\n",
       "    .dataframe tbody tr th:only-of-type {\n",
       "        vertical-align: middle;\n",
       "    }\n",
       "\n",
       "    .dataframe tbody tr th {\n",
       "        vertical-align: top;\n",
       "    }\n",
       "\n",
       "    .dataframe thead th {\n",
       "        text-align: right;\n",
       "    }\n",
       "</style>\n",
       "<table border=\"1\" class=\"dataframe\">\n",
       "  <thead>\n",
       "    <tr style=\"text-align: right;\">\n",
       "      <th></th>\n",
       "      <th>year</th>\n",
       "      <th>month</th>\n",
       "      <th>day_count</th>\n",
       "    </tr>\n",
       "  </thead>\n",
       "  <tbody>\n",
       "    <tr>\n",
       "      <th>108</th>\n",
       "      <td>2021</td>\n",
       "      <td>1</td>\n",
       "      <td>1171991</td>\n",
       "    </tr>\n",
       "    <tr>\n",
       "      <th>109</th>\n",
       "      <td>2021</td>\n",
       "      <td>2</td>\n",
       "      <td>1354776</td>\n",
       "    </tr>\n",
       "    <tr>\n",
       "      <th>110</th>\n",
       "      <td>2021</td>\n",
       "      <td>3</td>\n",
       "      <td>1544601</td>\n",
       "    </tr>\n",
       "    <tr>\n",
       "      <th>111</th>\n",
       "      <td>2021</td>\n",
       "      <td>4</td>\n",
       "      <td>1164731</td>\n",
       "    </tr>\n",
       "    <tr>\n",
       "      <th>112</th>\n",
       "      <td>2021</td>\n",
       "      <td>5</td>\n",
       "      <td>1756308</td>\n",
       "    </tr>\n",
       "    <tr>\n",
       "      <th>113</th>\n",
       "      <td>2021</td>\n",
       "      <td>6</td>\n",
       "      <td>2149770</td>\n",
       "    </tr>\n",
       "    <tr>\n",
       "      <th>114</th>\n",
       "      <td>2021</td>\n",
       "      <td>7</td>\n",
       "      <td>1747927</td>\n",
       "    </tr>\n",
       "    <tr>\n",
       "      <th>115</th>\n",
       "      <td>2021</td>\n",
       "      <td>8</td>\n",
       "      <td>1802005</td>\n",
       "    </tr>\n",
       "    <tr>\n",
       "      <th>116</th>\n",
       "      <td>2021</td>\n",
       "      <td>9</td>\n",
       "      <td>1653033</td>\n",
       "    </tr>\n",
       "    <tr>\n",
       "      <th>117</th>\n",
       "      <td>2021</td>\n",
       "      <td>10</td>\n",
       "      <td>2013444</td>\n",
       "    </tr>\n",
       "    <tr>\n",
       "      <th>118</th>\n",
       "      <td>2021</td>\n",
       "      <td>11</td>\n",
       "      <td>2241599</td>\n",
       "    </tr>\n",
       "    <tr>\n",
       "      <th>119</th>\n",
       "      <td>2021</td>\n",
       "      <td>12</td>\n",
       "      <td>2152553</td>\n",
       "    </tr>\n",
       "  </tbody>\n",
       "</table>\n",
       "</div>"
      ],
      "text/plain": [
       "     year  month  day_count\n",
       "108  2021      1    1171991\n",
       "109  2021      2    1354776\n",
       "110  2021      3    1544601\n",
       "111  2021      4    1164731\n",
       "112  2021      5    1756308\n",
       "113  2021      6    2149770\n",
       "114  2021      7    1747927\n",
       "115  2021      8    1802005\n",
       "116  2021      9    1653033\n",
       "117  2021     10    2013444\n",
       "118  2021     11    2241599\n",
       "119  2021     12    2152553"
      ]
     },
     "execution_count": 8,
     "metadata": {},
     "output_type": "execute_result"
    }
   ],
   "source": [
    "btc_m[btc_m['year'] == 2021]"
   ]
  },
  {
   "cell_type": "markdown",
   "id": "2965ae6f",
   "metadata": {},
   "source": [
    "2021 is a very interesting year for the Bitcoin, so lets try to download data from this year"
   ]
  },
  {
   "cell_type": "markdown",
   "id": "0512ec66",
   "metadata": {},
   "source": [
    "## Downloading the tweets about Bitcoin for 2021"
   ]
  },
  {
   "cell_type": "code",
   "execution_count": 25,
   "id": "56007f11",
   "metadata": {},
   "outputs": [
    {
     "name": "stdout",
     "output_type": "stream",
     "text": [
      "100%|████████| Processed 30 days/30 days [14:16:40<00:00, 1482456 tweets total ]\n",
      "100%|██████████████| Processed 7.13G/7.13G of input file [30:09<00:00, 4.23MB/s]\n",
      "\n",
      "ℹ️\n",
      "Parsed 1482456 tweets objects from 16977 lines in the input file.\n",
      "Wrote 1482456 rows and output 74 columns in the CSV.\n",
      "\n"
     ]
    }
   ],
   "source": [
    "# July 2021\n",
    "!twarc2 search --archive --start-time \"2021-07-01\" --end-time \"2021-07-31\" \"(#BTC OR #BITCOIN OR #btc OR #bitcoin $btc $BTC) lang:en -is:retweet\" data/tweets_2107.jsonl\n",
    "!twarc2 csv data/tweets_2107.jsonl data/tweets_2107.csv"
   ]
  },
  {
   "cell_type": "code",
   "execution_count": 46,
   "id": "b111a930",
   "metadata": {},
   "outputs": [
    {
     "name": "stdout",
     "output_type": "stream",
     "text": [
      "100%|████████| Processed 30 days/30 days [14:44:13<00:00, 1567452 tweets total ]\n",
      "100%|██████████████| Processed 7.46G/7.46G of input file [31:00<00:00, 4.30MB/s]\n",
      "\n",
      "ℹ️\n",
      "Parsed 1567452 tweets objects from 17527 lines in the input file.\n",
      "Wrote 1567452 rows and output 74 columns in the CSV.\n",
      "\n"
     ]
    }
   ],
   "source": [
    "# August 2021\n",
    "!twarc2 search --archive --start-time \"2021-08-01\" --end-time \"2021-08-31\" \"(#BTC OR #BITCOIN OR #btc OR #bitcoin $btc $BTC) lang:en -is:retweet\" data/tweets_2108.jsonl\n",
    "!twarc2 csv data/tweets_2108.jsonl data/tweets_2108.csv"
   ]
  },
  {
   "cell_type": "code",
   "execution_count": 50,
   "id": "ab9db99c",
   "metadata": {},
   "outputs": [
    {
     "name": "stdout",
     "output_type": "stream",
     "text": [
      "100%|████████| Processed 29 days/29 days [13:32:10<00:00, 1533671 tweets total ]\n",
      "100%|██████████████| Processed 7.56G/7.56G of input file [29:10<00:00, 4.64MB/s]\n",
      "\n",
      "ℹ️\n",
      "Parsed 1533671 tweets objects from 16070 lines in the input file.\n",
      "Wrote 1533671 rows and output 74 columns in the CSV.\n",
      "\n"
     ]
    }
   ],
   "source": [
    "# September 2021\n",
    "!twarc2 search --archive --start-time \"2021-09-01\" --end-time \"2021-09-30\" \"(#BTC OR #BITCOIN OR #btc OR #bitcoin $btc $BTC) lang:en -is:retweet\" data/tweets_2109.jsonl\n",
    "!twarc2 csv data/tweets_2109.jsonl data/tweets_2109.csv"
   ]
  },
  {
   "cell_type": "code",
   "execution_count": 5,
   "id": "99e8b315",
   "metadata": {},
   "outputs": [
    {
     "name": "stdout",
     "output_type": "stream",
     "text": [
      "100%|████████| Processed 30 days/30 days [16:16:59<00:00, 1924751 tweets total ]\n",
      "100%|██████████████| Processed 9.60G/9.60G of input file [36:59<00:00, 4.64MB/s]\n",
      "\n",
      "ℹ️\n",
      "Parsed 1924751 tweets objects from 19390 lines in the input file.\n",
      "Wrote 1924751 rows and output 74 columns in the CSV.\n",
      "\n"
     ]
    }
   ],
   "source": [
    "# October 2021\n",
    "!twarc2 search --archive --start-time \"2021-10-01\" --end-time \"2021-10-31\" \"(#BTC OR #BITCOIN OR #btc OR #bitcoin $btc $BTC) lang:en -is:retweet\" data/tweets_2110.jsonl\n",
    "!twarc2 csv data/tweets_2110.jsonl data/tweets_2110.csv"
   ]
  },
  {
   "cell_type": "code",
   "execution_count": null,
   "id": "d917f4a4",
   "metadata": {},
   "outputs": [
    {
     "name": "stdout",
     "output_type": "stream",
     "text": [
      " 43%|██▌   | Processed 12 days/29 days [12:51:36<11:21:33, 935319 tweets total ]"
     ]
    }
   ],
   "source": [
    "# November 2021\n",
    "!twarc2 search --archive --start-time \"2021-11-01\" --end-time \"2021-11-30\" \"(#BTC OR #BITCOIN OR #btc OR #bitcoin $btc $BTC) lang:en -is:retweet\" data/tweets_2111.jsonl\n",
    "!twarc2 csv data/tweets_2111.jsonl data/tweets_2111.csv"
   ]
  },
  {
   "cell_type": "code",
   "execution_count": null,
   "id": "edf8516b",
   "metadata": {},
   "outputs": [],
   "source": []
  },
  {
   "cell_type": "code",
   "execution_count": 3,
   "id": "7c0408dd",
   "metadata": {},
   "outputs": [],
   "source": [
    "df = pd.read_csv(\"data/tweets_2110.csv\", usecols = ['id', 'conversation_id', 'author_id', 'created_at', 'text', 'lang',\n",
    "                                                    'source', 'public_metrics.like_count', 'public_metrics.quote_count', 'public_metrics.reply_count', \n",
    "                                                    'public_metrics.retweet_count', 'entities.annotations', 'entities.cashtags', 'author.username', 'author.public_metrics.followers_count',\n",
    "                                                    'author.public_metrics.following_count', 'author.public_metrics.listed_count', 'geo.country', 'geo.country_code'])"
   ]
  },
  {
   "cell_type": "code",
   "execution_count": 4,
   "id": "deea3ed5",
   "metadata": {},
   "outputs": [],
   "source": [
    "df.to_csv(\"data/tweets_2110_s.csv\")\n",
    "df.sample(frac = 0.1, random_state = 123).to_csv(\"data/tweets_2110_s10.csv\")"
   ]
  },
  {
   "cell_type": "code",
   "execution_count": 29,
   "id": "a90c0338",
   "metadata": {},
   "outputs": [
    {
     "data": {
      "text/plain": [
       "23"
      ]
     },
     "execution_count": 29,
     "metadata": {},
     "output_type": "execute_result"
    }
   ],
   "source": [
    "len(df.columns)"
   ]
  },
  {
   "cell_type": "code",
   "execution_count": 34,
   "id": "f26610c5",
   "metadata": {},
   "outputs": [
    {
     "name": "stdout",
     "output_type": "stream",
     "text": [
      "Set --limit of 100 reached:   0%| | Processed 10 minutes/30 days [00:03<3:42:05,\n",
      "100%|████████████████| Processed 361k/361k of input file [00:00<00:00, 1.30MB/s]\n",
      "\n",
      "ℹ️\n",
      "Parsed 472 tweets objects from 1 lines in the input file.\n",
      "Wrote 472 rows and output 74 columns in the CSV.\n",
      "\n"
     ]
    }
   ],
   "source": [
    "!twarc2 search --archive --limit 100 --tweet-fields \"id,author_id,created_at,public_metrics,text,lang,geo\" --user-fields \"username,public_metrics\" --start-time \"2021-07-01\" --end-time \"2021-07-31\" \"(#BTC OR #BITCOIN OR #btc OR #bitcoin $btc $BTC) lang:en -is:retweet\" data/prueba.jsonl\n",
    "!twarc2 csv data/prueba.jsonl data/prueba.csv\n",
    "\n"
   ]
  },
  {
   "cell_type": "code",
   "execution_count": 37,
   "id": "774a8334",
   "metadata": {},
   "outputs": [
    {
     "data": {
      "text/plain": [
       "Index(['id', 'conversation_id', 'referenced_tweets.replied_to.id',\n",
       "       'referenced_tweets.retweeted.id', 'referenced_tweets.quoted.id',\n",
       "       'author_id', 'in_reply_to_user_id', 'retweeted_user_id',\n",
       "       'quoted_user_id', 'created_at', 'text', 'lang', 'source',\n",
       "       'public_metrics.like_count', 'public_metrics.quote_count',\n",
       "       'public_metrics.reply_count', 'public_metrics.retweet_count',\n",
       "       'reply_settings', 'possibly_sensitive', 'withheld.scope',\n",
       "       'withheld.copyright', 'withheld.country_codes', 'entities.annotations',\n",
       "       'entities.cashtags', 'entities.hashtags', 'entities.mentions',\n",
       "       'entities.urls', 'context_annotations', 'attachments.media',\n",
       "       'attachments.media_keys', 'attachments.poll.duration_minutes',\n",
       "       'attachments.poll.end_datetime', 'attachments.poll.id',\n",
       "       'attachments.poll.options', 'attachments.poll.voting_status',\n",
       "       'attachments.poll_ids', 'author.id', 'author.created_at',\n",
       "       'author.username', 'author.name', 'author.description',\n",
       "       'author.entities.description.cashtags',\n",
       "       'author.entities.description.hashtags',\n",
       "       'author.entities.description.mentions',\n",
       "       'author.entities.description.urls', 'author.entities.url.urls',\n",
       "       'author.location', 'author.pinned_tweet_id', 'author.profile_image_url',\n",
       "       'author.protected', 'author.public_metrics.followers_count',\n",
       "       'author.public_metrics.following_count',\n",
       "       'author.public_metrics.listed_count',\n",
       "       'author.public_metrics.tweet_count', 'author.url', 'author.verified',\n",
       "       'author.withheld.scope', 'author.withheld.copyright',\n",
       "       'author.withheld.country_codes', 'geo.coordinates.coordinates',\n",
       "       'geo.coordinates.type', 'geo.country', 'geo.country_code',\n",
       "       'geo.full_name', 'geo.geo.bbox', 'geo.geo.type', 'geo.id', 'geo.name',\n",
       "       'geo.place_id', 'geo.place_type', '__twarc.retrieved_at', '__twarc.url',\n",
       "       '__twarc.version', 'Unnamed: 73'],\n",
       "      dtype='object')"
      ]
     },
     "execution_count": 37,
     "metadata": {},
     "output_type": "execute_result"
    }
   ],
   "source": [
    "prueba_df = pd.read_csv(\"data/prueba.csv\")\n",
    "len(prueba_df.columns)\n",
    "prueba_df.columns"
   ]
  },
  {
   "cell_type": "code",
   "execution_count": 28,
   "id": "1ab67dfd",
   "metadata": {},
   "outputs": [],
   "source": []
  },
  {
   "cell_type": "code",
   "execution_count": null,
   "id": "f1ea5b07",
   "metadata": {},
   "outputs": [],
   "source": []
  },
  {
   "cell_type": "code",
   "execution_count": null,
   "id": "e40846a2",
   "metadata": {},
   "outputs": [],
   "source": []
  },
  {
   "cell_type": "code",
   "execution_count": 42,
   "id": "a6a0f641",
   "metadata": {},
   "outputs": [
    {
     "data": {
      "text/html": [
       "<div>\n",
       "<style scoped>\n",
       "    .dataframe tbody tr th:only-of-type {\n",
       "        vertical-align: middle;\n",
       "    }\n",
       "\n",
       "    .dataframe tbody tr th {\n",
       "        vertical-align: top;\n",
       "    }\n",
       "\n",
       "    .dataframe thead th {\n",
       "        text-align: right;\n",
       "    }\n",
       "</style>\n",
       "<table border=\"1\" class=\"dataframe\">\n",
       "  <thead>\n",
       "    <tr style=\"text-align: right;\">\n",
       "      <th></th>\n",
       "      <th>author.withheld.country_codes</th>\n",
       "      <th>geo.coordinates.coordinates</th>\n",
       "    </tr>\n",
       "  </thead>\n",
       "  <tbody>\n",
       "    <tr>\n",
       "      <th>0</th>\n",
       "      <td>NaN</td>\n",
       "      <td>NaN</td>\n",
       "    </tr>\n",
       "    <tr>\n",
       "      <th>1</th>\n",
       "      <td>NaN</td>\n",
       "      <td>NaN</td>\n",
       "    </tr>\n",
       "    <tr>\n",
       "      <th>2</th>\n",
       "      <td>NaN</td>\n",
       "      <td>NaN</td>\n",
       "    </tr>\n",
       "    <tr>\n",
       "      <th>3</th>\n",
       "      <td>NaN</td>\n",
       "      <td>NaN</td>\n",
       "    </tr>\n",
       "    <tr>\n",
       "      <th>4</th>\n",
       "      <td>NaN</td>\n",
       "      <td>NaN</td>\n",
       "    </tr>\n",
       "    <tr>\n",
       "      <th>...</th>\n",
       "      <td>...</td>\n",
       "      <td>...</td>\n",
       "    </tr>\n",
       "    <tr>\n",
       "      <th>467</th>\n",
       "      <td>NaN</td>\n",
       "      <td>NaN</td>\n",
       "    </tr>\n",
       "    <tr>\n",
       "      <th>468</th>\n",
       "      <td>NaN</td>\n",
       "      <td>NaN</td>\n",
       "    </tr>\n",
       "    <tr>\n",
       "      <th>469</th>\n",
       "      <td>NaN</td>\n",
       "      <td>NaN</td>\n",
       "    </tr>\n",
       "    <tr>\n",
       "      <th>470</th>\n",
       "      <td>NaN</td>\n",
       "      <td>NaN</td>\n",
       "    </tr>\n",
       "    <tr>\n",
       "      <th>471</th>\n",
       "      <td>NaN</td>\n",
       "      <td>NaN</td>\n",
       "    </tr>\n",
       "  </tbody>\n",
       "</table>\n",
       "<p>472 rows × 2 columns</p>\n",
       "</div>"
      ],
      "text/plain": [
       "     author.withheld.country_codes  geo.coordinates.coordinates\n",
       "0                              NaN                          NaN\n",
       "1                              NaN                          NaN\n",
       "2                              NaN                          NaN\n",
       "3                              NaN                          NaN\n",
       "4                              NaN                          NaN\n",
       "..                             ...                          ...\n",
       "467                            NaN                          NaN\n",
       "468                            NaN                          NaN\n",
       "469                            NaN                          NaN\n",
       "470                            NaN                          NaN\n",
       "471                            NaN                          NaN\n",
       "\n",
       "[472 rows x 2 columns]"
      ]
     },
     "execution_count": 42,
     "metadata": {},
     "output_type": "execute_result"
    }
   ],
   "source": [
    "prueba_df[[i for i in prueba_df.columns[58:60]]]"
   ]
  }
 ],
 "metadata": {
  "kernelspec": {
   "display_name": "Python 3 (ipykernel)",
   "language": "python",
   "name": "python3"
  },
  "language_info": {
   "codemirror_mode": {
    "name": "ipython",
    "version": 3
   },
   "file_extension": ".py",
   "mimetype": "text/x-python",
   "name": "python",
   "nbconvert_exporter": "python",
   "pygments_lexer": "ipython3",
   "version": "3.8.8"
  }
 },
 "nbformat": 4,
 "nbformat_minor": 5
}
